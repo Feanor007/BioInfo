{
 "cells": [
  {
   "cell_type": "code",
   "execution_count": 1,
   "metadata": {},
   "outputs": [],
   "source": [
    "#import packages\n",
    "import pandas as pd\n",
    "import numpy as np\n",
    "import matplotlib.pyplot as plt"
   ]
  },
  {
   "cell_type": "code",
   "execution_count": 2,
   "metadata": {},
   "outputs": [],
   "source": [
    "#read csv files from your computer\n",
    "test_df = pd.read_csv('~/Downloads/TF/time1-1.csv', index_col = 0)\n",
    "control_df = pd.read_csv('~/Downloads/TF/Con1-1.csv', index_col = 0)"
   ]
  },
  {
   "cell_type": "code",
   "execution_count": 3,
   "metadata": {},
   "outputs": [],
   "source": [
    "#Add an empty column to the control \n",
    "control_df['None'] = np.nan"
   ]
  },
  {
   "cell_type": "code",
   "execution_count": 4,
   "metadata": {},
   "outputs": [
    {
     "name": "stdout",
     "output_type": "stream",
     "text": [
      "                    control1      B1.1      C1.1      F1.1        I1  \\\n",
      "NAME                                                                   \n",
      "ENSMUSG00000000093  0.455434 -0.493627 -0.206240 -0.339563 -0.442237   \n",
      "ENSMUSG00000000094  3.470376 -0.662882 -0.685824 -0.596082 -0.682332   \n",
      "\n",
      "                          L1      iTS1  \n",
      "NAME                                    \n",
      "ENSMUSG00000000093 -0.474776 -0.397750  \n",
      "ENSMUSG00000000094 -0.552608 -0.706195  \n",
      "                    control1      A1.1    A1.1.1      D1.1        G1  \\\n",
      "NAME                                                                   \n",
      "ENSMUSG00000000093  0.455434 -0.488624 -0.488624 -0.234902  4.168931   \n",
      "ENSMUSG00000000094  3.470376 -0.593893 -0.593893 -0.114631  0.287968   \n",
      "\n",
      "                          K1  None  \n",
      "NAME                                \n",
      "ENSMUSG00000000093  0.189459   NaN  \n",
      "ENSMUSG00000000094 -0.796025   NaN  \n"
     ]
    }
   ],
   "source": [
    "print(test_df.head(2))\n",
    "print(control_df.head(2))"
   ]
  },
  {
   "cell_type": "code",
   "execution_count": 5,
   "metadata": {},
   "outputs": [
    {
     "name": "stdout",
     "output_type": "stream",
     "text": [
      "control1    2.782236\n",
      "B1.1       -0.417224\n",
      "C1.1       -0.466722\n",
      "F1.1       -0.505028\n",
      "I1         -0.637352\n",
      "L1         -0.337086\n",
      "iTS1       -0.694517\n",
      "dtype: float64\n",
      "control1    2.782236\n",
      "A1.1        0.115157\n",
      "A1.1.1      0.115157\n",
      "D1.1        0.390400\n",
      "G1          0.834514\n",
      "K1          0.556972\n",
      "None             NaN\n",
      "dtype: float64\n",
      "control1    1.016508\n",
      "B1.1        0.430061\n",
      "C1.1        0.389420\n",
      "F1.1        0.387677\n",
      "I1          0.434259\n",
      "L1          0.435290\n",
      "iTS1        0.543410\n",
      "dtype: float64\n",
      "control1    1.016508\n",
      "A1.1        0.839550\n",
      "A1.1.1      0.839550\n",
      "D1.1        0.760874\n",
      "G1          0.971168\n",
      "K1          1.001622\n",
      "None             NaN\n",
      "dtype: float64\n"
     ]
    }
   ],
   "source": [
    "#calculate mean and sd\n",
    "\n",
    "#test_dataframe.sum(axis = 0)\n",
    "#test_dataframe.drop(['Unnamed: 7'],axis = 1,inplace = True)\n",
    "test_mean = test_df.mean(axis = 0,skipna = True)\n",
    "control_mean = control_df.mean(axis = 0, skipna = True)\n",
    "#test_mean = test_mean.rename(index = {'control1.1':'control1'})\n",
    "print(test_mean)\n",
    "print(control_mean)\n",
    "test_sd = test_df.std(axis = 0, skipna = True)\n",
    "control_sd = control_df.std(axis = 0, skipna = True)\n",
    "#test_sd = test_sd.rename(index = {'control1.1':'control1'})\n",
    "print(test_sd)\n",
    "print(control_sd)"
   ]
  },
  {
   "cell_type": "code",
   "execution_count": 6,
   "metadata": {
    "scrolled": false
   },
   "outputs": [
    {
     "data": {
      "text/plain": [
       "<matplotlib.legend.Legend at 0x7f982ae08ad0>"
      ]
     },
     "execution_count": 6,
     "metadata": {},
     "output_type": "execute_result"
    },
    {
     "data": {
      "image/png": "[encoded data removed]",
      "text/plain": [
       "<Figure size 432x288 with 1 Axes>"
      ]
     },
     "metadata": {
      "needs_background": "light"
     },
     "output_type": "display_data"
    }
   ],
   "source": [
    "#plot the diagram\n",
    "plt.title('Unknown')\n",
    "plt.ylabel('Expression Level')\n",
    "#define x-axis\n",
    "days = ['EMF','D3','D3-2','D6','D12','D12+7','iTS']\n",
    "#plot line A\n",
    "A, = plt.plot(days, test_mean, color = 'firebrick',linewidth=2.0)\n",
    "#plot shadow A\n",
    "plt.fill_between(days, test_mean-test_sd, test_mean+test_sd, color = 'firebrick',\n",
    "                 alpha = 0.3)\n",
    "# plot line B\n",
    "B, = plt.plot(days, control_mean, color = 'royalblue',linewidth = 2.0)\n",
    "# plot shadow B\n",
    "plt.fill_between(days, control_mean-control_sd, control_mean+control_sd, color = 'lightsteelblue',\n",
    "                 alpha = 0.3)\n",
    "#Add legend\n",
    "plt.legend([A, B], ['some texts', 'some texts'])\n",
    "#specify where to save the file\n",
    "\n",
    "#plt.savefig('./Downloads/TF/ribbon_plot/EMT.svg', bbox_inches='tight', format='svg')"
   ]
  },
  {
   "cell_type": "code",
   "execution_count": null,
   "metadata": {},
   "outputs": [],
   "source": []
  }
 ],
 "metadata": {
  "kernelspec": {
   "display_name": "rnaSeq",
   "language": "python",
   "name": "rnaseq"
  },
  "language_info": {
   "codemirror_mode": {
    "name": "ipython",
    "version": 3
   },
   "file_extension": ".py",
   "mimetype": "text/x-python",
   "name": "python",
   "nbconvert_exporter": "python",
   "pygments_lexer": "ipython3",
   "version": "3.7.9"
  }
 },
 "nbformat": 4,
 "nbformat_minor": 4
}
